{
 "cells": [
  {
   "cell_type": "code",
   "execution_count": 1,
   "id": "c5a63418",
   "metadata": {},
   "outputs": [],
   "source": [
    "import random"
   ]
  },
  {
   "cell_type": "code",
   "execution_count": 2,
   "id": "ed5dc424",
   "metadata": {},
   "outputs": [],
   "source": [
    "adj=['tasty','mild','stunning','impressive','beautiful','smooth','strong','eye-caching','unforgettable','loud','romantic','early','largest','most']"
   ]
  },
  {
   "cell_type": "code",
   "execution_count": 20,
   "id": "2dfa976b",
   "metadata": {},
   "outputs": [],
   "source": [
    "noun=['morning','design','performance','food','experience','room','afternoon','winter','light','music','weather','smell']"
   ]
  },
  {
   "cell_type": "code",
   "execution_count": 4,
   "id": "5408c0f2",
   "metadata": {},
   "outputs": [],
   "source": [
    "pun=['!','&','?',':','#']"
   ]
  },
  {
   "cell_type": "code",
   "execution_count": 21,
   "id": "605cda8d",
   "metadata": {},
   "outputs": [
    {
     "name": "stdout",
     "output_type": "stream",
     "text": [
      "largest morning 25 #\n"
     ]
    }
   ],
   "source": [
    "print(random.choice(adj),random.choice(noun),random.choice(range(0,100)),random.choice(pun))"
   ]
  },
  {
   "cell_type": "code",
   "execution_count": null,
   "id": "44884ff1",
   "metadata": {},
   "outputs": [],
   "source": []
  },
  {
   "cell_type": "code",
   "execution_count": null,
   "id": "1862ff17",
   "metadata": {},
   "outputs": [],
   "source": []
  }
 ],
 "metadata": {
  "kernelspec": {
   "display_name": "Python 3",
   "language": "python",
   "name": "python3"
  },
  "language_info": {
   "codemirror_mode": {
    "name": "ipython",
    "version": 3
   },
   "file_extension": ".py",
   "mimetype": "text/x-python",
   "name": "python",
   "nbconvert_exporter": "python",
   "pygments_lexer": "ipython3",
   "version": "3.8.8"
  }
 },
 "nbformat": 4,
 "nbformat_minor": 5
}
